{
 "cells": [
  {
   "cell_type": "code",
   "execution_count": 3,
   "id": "06ed5f04-1659-43ba-90fa-de3863e17985",
   "metadata": {},
   "outputs": [
    {
     "name": "stdout",
     "output_type": "stream",
     "text": [
      "F:\\JM_stage\\Mars_study_with_AI\\all_MNPC\\RR.tif\n"
     ]
    }
   ],
   "source": [
    "import megadune_mapper.file_path_fixing as fpf\n",
    "\n",
    "print(fpf.file_name_converter(r'/mnt/JM_stage/Mars_study_with_AI/all_MNPC/RR.tif'))"
   ]
  },
  {
   "cell_type": "code",
   "execution_count": null,
   "id": "cb9b3619-fafe-4aef-8739-d4e4cd4b7bd0",
   "metadata": {},
   "outputs": [],
   "source": [
    "print(dune_polygons.file_name_converter(None))"
   ]
  },
  {
   "cell_type": "code",
   "execution_count": null,
   "id": "201cb87c-c74f-488f-9824-89b93d25d93c",
   "metadata": {},
   "outputs": [],
   "source": []
  }
 ],
 "metadata": {
  "kernelspec": {
   "display_name": "Python [conda env:base] *",
   "language": "python",
   "name": "conda-base-py"
  },
  "language_info": {
   "codemirror_mode": {
    "name": "ipython",
    "version": 3
   },
   "file_extension": ".py",
   "mimetype": "text/x-python",
   "name": "python",
   "nbconvert_exporter": "python",
   "pygments_lexer": "ipython3",
   "version": "3.12.3"
  }
 },
 "nbformat": 4,
 "nbformat_minor": 5
}
